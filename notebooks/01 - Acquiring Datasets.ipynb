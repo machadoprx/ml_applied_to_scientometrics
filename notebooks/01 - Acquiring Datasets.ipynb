{
 "cells": [
  {
   "cell_type": "code",
   "execution_count": 2,
   "id": "e4c7e7dd-2fc6-44ee-9a7b-3b81b2c0a5c5",
   "metadata": {},
   "outputs": [],
   "source": [
    "import pandas as pd\n",
    "from pyalex import Works, Authors, Sources, Institutions, Concepts, Publishers, Funders\n",
    "from tqdm import tqdm\n",
    "from multiprocess import Process, Manager\n",
    "from typing import List, Dict\n",
    "import json\n",
    "from joblib import delayed, Parallel\n",
    "import itertools"
   ]
  },
  {
   "cell_type": "code",
   "execution_count": 3,
   "id": "e8ad6d4c-c79e-4a75-b57c-65e0d0e52c08",
   "metadata": {},
   "outputs": [],
   "source": [
    "df = pd.read_csv(\"aps-dataset-citations-2020.csv\")"
   ]
  },
  {
   "cell_type": "code",
   "execution_count": 4,
   "id": "827ce440-8113-4fe0-8291-c5f5cdaa5fb0",
   "metadata": {},
   "outputs": [
    {
     "data": {
      "text/html": [
       "<div>\n",
       "<style scoped>\n",
       "    .dataframe tbody tr th:only-of-type {\n",
       "        vertical-align: middle;\n",
       "    }\n",
       "\n",
       "    .dataframe tbody tr th {\n",
       "        vertical-align: top;\n",
       "    }\n",
       "\n",
       "    .dataframe thead th {\n",
       "        text-align: right;\n",
       "    }\n",
       "</style>\n",
       "<table border=\"1\" class=\"dataframe\">\n",
       "  <thead>\n",
       "    <tr style=\"text-align: right;\">\n",
       "      <th></th>\n",
       "      <th>citing_doi</th>\n",
       "      <th>cited_doi</th>\n",
       "    </tr>\n",
       "  </thead>\n",
       "  <tbody>\n",
       "    <tr>\n",
       "      <th>0</th>\n",
       "      <td>10.1103/PhysRevSeriesI.11.215</td>\n",
       "      <td>10.1103/PhysRevSeriesI.1.1</td>\n",
       "    </tr>\n",
       "    <tr>\n",
       "      <th>1</th>\n",
       "      <td>10.1103/PhysRevSeriesI.12.121</td>\n",
       "      <td>10.1103/PhysRevSeriesI.1.166</td>\n",
       "    </tr>\n",
       "    <tr>\n",
       "      <th>2</th>\n",
       "      <td>10.1103/PhysRevSeriesI.7.93</td>\n",
       "      <td>10.1103/PhysRevSeriesI.1.166</td>\n",
       "    </tr>\n",
       "    <tr>\n",
       "      <th>3</th>\n",
       "      <td>10.1103/PhysRevSeriesI.16.267</td>\n",
       "      <td>10.1103/PhysRevSeriesI.2.35</td>\n",
       "    </tr>\n",
       "    <tr>\n",
       "      <th>4</th>\n",
       "      <td>10.1103/PhysRevSeriesI.17.65</td>\n",
       "      <td>10.1103/PhysRevSeriesI.2.112</td>\n",
       "    </tr>\n",
       "  </tbody>\n",
       "</table>\n",
       "</div>"
      ],
      "text/plain": [
       "                      citing_doi                     cited_doi\n",
       "0  10.1103/PhysRevSeriesI.11.215    10.1103/PhysRevSeriesI.1.1\n",
       "1  10.1103/PhysRevSeriesI.12.121  10.1103/PhysRevSeriesI.1.166\n",
       "2    10.1103/PhysRevSeriesI.7.93  10.1103/PhysRevSeriesI.1.166\n",
       "3  10.1103/PhysRevSeriesI.16.267   10.1103/PhysRevSeriesI.2.35\n",
       "4   10.1103/PhysRevSeriesI.17.65  10.1103/PhysRevSeriesI.2.112"
      ]
     },
     "execution_count": 4,
     "metadata": {},
     "output_type": "execute_result"
    }
   ],
   "source": [
    "df.head(5)"
   ]
  },
  {
   "cell_type": "code",
   "execution_count": 6,
   "id": "190135c3-e18e-4e9d-b469-c14e092d28f5",
   "metadata": {},
   "outputs": [
    {
     "data": {
      "text/plain": [
       "8850333"
      ]
     },
     "execution_count": 6,
     "metadata": {},
     "output_type": "execute_result"
    }
   ],
   "source": [
    "len(df)"
   ]
  },
  {
   "cell_type": "code",
   "execution_count": 40,
   "id": "eee11487-57ac-419c-9b4e-f2bba8e577c7",
   "metadata": {},
   "outputs": [],
   "source": [
    "def get_metadata(dois: List[str], is_id=False):\n",
    "    dois_queries = []\n",
    "    max_size = 25\n",
    "    \n",
    "    if is_id == False:\n",
    "        doi_prefix = \"https://doi.org/\"\n",
    "        dois_cat = [doi_prefix + doi for doi in dois]\n",
    "        while dois_cat: \n",
    "            chunk, dois_cat = dois_cat[:max_size], dois_cat[max_size:]\n",
    "            query = \"|\".join(chunk)\n",
    "            dois_queries.append(query)\n",
    "    else:\n",
    "        while dois: \n",
    "            chunk, dois = dois[:max_size], dois[max_size:]\n",
    "            dois_queries.append(chunk)\n",
    "\n",
    "    all_results = []\n",
    "    for q in dois_queries:\n",
    "        if is_id == False:\n",
    "            results = Works().filter(doi=q).get()\n",
    "        else:\n",
    "            results = Works()[q]\n",
    "        filtered_results = []\n",
    "        for r in results:\n",
    "            try:\n",
    "                found_first_author = False\n",
    "                for fa_idx in range(len(r[\"authorships\"])):\n",
    "                    if r[\"authorships\"][fa_idx]['author_position'] == 'first':\n",
    "                        found_first_author = True\n",
    "                        break\n",
    "                        \n",
    "                sorted_keywords = [m[\"keyword\"] for m in sorted(r[\"keywords\"], key=lambda x: x['score'], reverse=True)]\n",
    "                all_authors = [m[\"raw_author_name\"] for m in r[\"authorships\"]]\n",
    "                sorted_authors_af = [m[\"raw_affiliation_string\"] for m in r[\"authorships\"]] \n",
    "                filtered_results.append({\n",
    "                    \"doi\": str(r[\"doi\"]),\n",
    "                    \"id\": str(r[\"id\"]),\n",
    "                    \"abstract\": str(r[\"abstract\"]),\n",
    "                    \"title\": str(r[\"title\"]),\n",
    "                    \"publication_date\": str(r[\"publication_date\"]),\n",
    "                    \"type\": str(r[\"type\"]),\n",
    "                    \"type_crossref\": str(r[\"type_crossref\"]),\n",
    "                    \"keywords\": sorted_keywords,\n",
    "                    \"first_author\": str(r[\"authorships\"][fa_idx]['raw_author_name']) if found_first_author else \"\",\n",
    "                    #\"host_organization_name\": str(r[\"primary_location\"][\"source\"][\"host_organization_name\"]) if \"source\" in r[\"primary_location\"] and ,\n",
    "                    \"all_authors\": all_authors,\n",
    "                    \"all_authors_af\": sorted_authors_af,\n",
    "                    \"language\": r[\"language\"],\n",
    "                    \"referenced_works\": r[\"referenced_works\"],\n",
    "                    \"referenced_works_count\": r[\"referenced_works_count\"],\n",
    "                    \"related_works\": r[\"related_works\"],\n",
    "                    \"concepts\": [(c[\"display_name\"], c[\"score\"]) for c in r[\"concepts\"]] if r[\"concepts\"] else [],\n",
    "                    \"is_accepted\": r[\"primary_location\"][\"is_accepted\"],\n",
    "                    \"is_published\": r[\"primary_location\"][\"is_published\"],\n",
    "                })\n",
    "            except:\n",
    "                pass\n",
    "        all_results.extend(filtered_results)\n",
    "    return all_results"
   ]
  },
  {
   "cell_type": "code",
   "execution_count": 26,
   "id": "9bd1233b-db80-4718-8e51-c72ee9dfedcc",
   "metadata": {},
   "outputs": [],
   "source": [
    "#df_sample = df.sample(n=10_000, random_state=0)\n",
    "unique_dois = df[\"citing_doi\"].tolist() + df[\"cited_doi\"].tolist()\n",
    "unique_dois = list(set(unique_dois))"
   ]
  },
  {
   "cell_type": "code",
   "execution_count": 9,
   "id": "ad4bd611-592f-48e5-91d8-7e1795e086a9",
   "metadata": {},
   "outputs": [
    {
     "name": "stdout",
     "output_type": "stream",
     "text": [
      "668383\n"
     ]
    }
   ],
   "source": [
    "print(len(unique_dois))"
   ]
  },
  {
   "cell_type": "code",
   "execution_count": 1,
   "id": "c9db405f-274d-4b33-8347-adbe74cb302c",
   "metadata": {},
   "outputs": [],
   "source": [
    "def parallel_openalex_queries(query_list, divs, is_id=False):\n",
    "    N = len(query_list)\n",
    "    piece_size = int(N / divs) + 1\n",
    "    NUM_JOBS = 4\n",
    "    all_data = []\n",
    "    for div in range(divs):\n",
    "        query_list_piece = query_list[div * piece_size:(div + 1) * piece_size]\n",
    "        \n",
    "        N_piece = len(query_list_piece)\n",
    "        \n",
    "        job_piece_size = int(N_piece / NUM_JOBS) + 1\n",
    "        chunks = [query_list_piece[job_piece_size * i:job_piece_size * (i + 1)] for i in range(NUM_JOBS)]\n",
    "        \n",
    "        metadata = Parallel(n_jobs=NUM_JOBS)(delayed(get_metadata)(d, is_id=is_id) for d in tqdm(chunks, total=len(chunks)))\n",
    "        metadata = list(itertools.chain.from_iterable(metadata))\n",
    "        print(len(metadata))\n",
    "        all_data.extend(metadata)\n",
    "    return all_data"
   ]
  },
  {
   "cell_type": "code",
   "execution_count": 41,
   "id": "8f449376-983a-4393-bb35-a6f9e40bee4b",
   "metadata": {},
   "outputs": [
    {
     "name": "stderr",
     "output_type": "stream",
     "text": [
      "100%|██████████████████████████████████| 4/4 [00:00<00:00, 133.42it/s]\n"
     ]
    },
    {
     "name": "stdout",
     "output_type": "stream",
     "text": [
      "66833\n"
     ]
    },
    {
     "name": "stderr",
     "output_type": "stream",
     "text": [
      "100%|█████████████████████████████████| 4/4 [00:00<00:00, 5845.72it/s]\n"
     ]
    },
    {
     "name": "stdout",
     "output_type": "stream",
     "text": [
      "66836\n"
     ]
    },
    {
     "name": "stderr",
     "output_type": "stream",
     "text": [
      "100%|█████████████████████████████████| 4/4 [00:00<00:00, 6150.01it/s]\n"
     ]
    },
    {
     "name": "stdout",
     "output_type": "stream",
     "text": [
      "66834\n"
     ]
    },
    {
     "name": "stderr",
     "output_type": "stream",
     "text": [
      "100%|█████████████████████████████████| 4/4 [00:00<00:00, 1136.05it/s]\n"
     ]
    },
    {
     "name": "stdout",
     "output_type": "stream",
     "text": [
      "66831\n"
     ]
    },
    {
     "name": "stderr",
     "output_type": "stream",
     "text": [
      "100%|█████████████████████████████████| 4/4 [00:00<00:00, 8069.85it/s]\n"
     ]
    },
    {
     "name": "stdout",
     "output_type": "stream",
     "text": [
      "66838\n"
     ]
    },
    {
     "name": "stderr",
     "output_type": "stream",
     "text": [
      "100%|██████████████████████████████████| 4/4 [00:00<00:00, 297.07it/s]\n"
     ]
    },
    {
     "name": "stdout",
     "output_type": "stream",
     "text": [
      "66834\n"
     ]
    },
    {
     "name": "stderr",
     "output_type": "stream",
     "text": [
      "100%|█████████████████████████████████| 4/4 [00:00<00:00, 8966.98it/s]\n"
     ]
    },
    {
     "name": "stdout",
     "output_type": "stream",
     "text": [
      "66833\n"
     ]
    },
    {
     "name": "stderr",
     "output_type": "stream",
     "text": [
      "100%|█████████████████████████████████| 4/4 [00:00<00:00, 6574.14it/s]\n"
     ]
    },
    {
     "name": "stdout",
     "output_type": "stream",
     "text": [
      "66833\n"
     ]
    },
    {
     "name": "stderr",
     "output_type": "stream",
     "text": [
      "100%|█████████████████████████████████| 4/4 [00:00<00:00, 6538.28it/s]\n"
     ]
    },
    {
     "name": "stdout",
     "output_type": "stream",
     "text": [
      "66837\n"
     ]
    },
    {
     "name": "stderr",
     "output_type": "stream",
     "text": [
      "100%|█████████████████████████████████| 4/4 [00:00<00:00, 8890.95it/s]\n"
     ]
    },
    {
     "name": "stdout",
     "output_type": "stream",
     "text": [
      "66828\n"
     ]
    }
   ],
   "source": [
    "all_data = parallel_openalex_queries(unique_dois, 10, is_id=False)"
   ]
  },
  {
   "cell_type": "code",
   "execution_count": null,
   "id": "a8e0ce17-0c9a-4203-a940-dacb4d478225",
   "metadata": {},
   "outputs": [],
   "source": [
    "extra_refs = []\n",
    "for d in all_data:\n",
    "    try:\n",
    "        extra_refs.extend(eval(d[\"referenced_works\"]))\n",
    "    except:\n",
    "        pass\n",
    "extra_refs = list(set(extra_refs) - set([x[\"id\"] for x in all_data]))"
   ]
  },
  {
   "cell_type": "code",
   "execution_count": null,
   "id": "392e508c-b753-4947-8991-a808a73549c1",
   "metadata": {},
   "outputs": [],
   "source": [
    "extended_data = parallel_openalex_queries(extra_refs, 20, is_id=True)"
   ]
  },
  {
   "cell_type": "code",
   "execution_count": 42,
   "id": "23dd6026-f380-4c3f-a189-b768a5c62904",
   "metadata": {},
   "outputs": [],
   "source": [
    "df_metadata = pd.DataFrame(list(set(all_data + extended_data)))"
   ]
  },
  {
   "cell_type": "code",
   "execution_count": 47,
   "id": "3effdb81-f651-42d9-8f56-727063895aa0",
   "metadata": {},
   "outputs": [
    {
     "data": {
      "text/plain": [
       "668263"
      ]
     },
     "execution_count": 47,
     "metadata": {},
     "output_type": "execute_result"
    }
   ],
   "source": [
    "len(df_metadata[\"doi\"].unique()) #[df_metadata[\"abstract\"] != \"\"]"
   ]
  },
  {
   "cell_type": "code",
   "execution_count": 44,
   "id": "54727f9a-85fc-4ad9-ae2d-b4eea7bf3163",
   "metadata": {},
   "outputs": [],
   "source": [
    "df_metadata.to_csv(\"metadata.csv\")"
   ]
  },
  {
   "cell_type": "code",
   "execution_count": 45,
   "id": "19596425-9e7c-4ab6-80f8-94b161f89963",
   "metadata": {},
   "outputs": [],
   "source": [
    "df_metadata.to_pickle(\"metadata.pkl\", compression={'method': 'gzip', 'compresslevel': 3, 'mtime': 1})"
   ]
  }
 ],
 "metadata": {
  "kernelspec": {
   "display_name": "Python 3 (ipykernel)",
   "language": "python",
   "name": "python3"
  },
  "language_info": {
   "codemirror_mode": {
    "name": "ipython",
    "version": 3
   },
   "file_extension": ".py",
   "mimetype": "text/x-python",
   "name": "python",
   "nbconvert_exporter": "python",
   "pygments_lexer": "ipython3",
   "version": "3.10.13"
  }
 },
 "nbformat": 4,
 "nbformat_minor": 5
}
