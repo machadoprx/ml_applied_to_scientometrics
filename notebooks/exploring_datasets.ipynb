{
 "cells": [
  {
   "cell_type": "code",
   "execution_count": 2,
   "id": "e4c7e7dd-2fc6-44ee-9a7b-3b81b2c0a5c5",
   "metadata": {},
   "outputs": [],
   "source": [
    "import pandas as pd\n",
    "from pyalex import Works, Authors, Sources, Institutions, Concepts, Publishers, Funders\n",
    "from tqdm import tqdm\n",
    "from multiprocess import Process, Manager\n",
    "from typing import List, Dict\n",
    "import json\n",
    "from joblib import delayed, Parallel\n",
    "import itertools"
   ]
  },
  {
   "cell_type": "code",
   "execution_count": 3,
   "id": "e8ad6d4c-c79e-4a75-b57c-65e0d0e52c08",
   "metadata": {},
   "outputs": [],
   "source": [
    "df = pd.read_csv(\"aps-dataset-citations-2020.csv\")"
   ]
  },
  {
   "cell_type": "code",
   "execution_count": 4,
   "id": "827ce440-8113-4fe0-8291-c5f5cdaa5fb0",
   "metadata": {},
   "outputs": [
    {
     "data": {
      "text/html": [
       "<div>\n",
       "<style scoped>\n",
       "    .dataframe tbody tr th:only-of-type {\n",
       "        vertical-align: middle;\n",
       "    }\n",
       "\n",
       "    .dataframe tbody tr th {\n",
       "        vertical-align: top;\n",
       "    }\n",
       "\n",
       "    .dataframe thead th {\n",
       "        text-align: right;\n",
       "    }\n",
       "</style>\n",
       "<table border=\"1\" class=\"dataframe\">\n",
       "  <thead>\n",
       "    <tr style=\"text-align: right;\">\n",
       "      <th></th>\n",
       "      <th>citing_doi</th>\n",
       "      <th>cited_doi</th>\n",
       "    </tr>\n",
       "  </thead>\n",
       "  <tbody>\n",
       "    <tr>\n",
       "      <th>0</th>\n",
       "      <td>10.1103/PhysRevSeriesI.11.215</td>\n",
       "      <td>10.1103/PhysRevSeriesI.1.1</td>\n",
       "    </tr>\n",
       "    <tr>\n",
       "      <th>1</th>\n",
       "      <td>10.1103/PhysRevSeriesI.12.121</td>\n",
       "      <td>10.1103/PhysRevSeriesI.1.166</td>\n",
       "    </tr>\n",
       "    <tr>\n",
       "      <th>2</th>\n",
       "      <td>10.1103/PhysRevSeriesI.7.93</td>\n",
       "      <td>10.1103/PhysRevSeriesI.1.166</td>\n",
       "    </tr>\n",
       "    <tr>\n",
       "      <th>3</th>\n",
       "      <td>10.1103/PhysRevSeriesI.16.267</td>\n",
       "      <td>10.1103/PhysRevSeriesI.2.35</td>\n",
       "    </tr>\n",
       "    <tr>\n",
       "      <th>4</th>\n",
       "      <td>10.1103/PhysRevSeriesI.17.65</td>\n",
       "      <td>10.1103/PhysRevSeriesI.2.112</td>\n",
       "    </tr>\n",
       "  </tbody>\n",
       "</table>\n",
       "</div>"
      ],
      "text/plain": [
       "                      citing_doi                     cited_doi\n",
       "0  10.1103/PhysRevSeriesI.11.215    10.1103/PhysRevSeriesI.1.1\n",
       "1  10.1103/PhysRevSeriesI.12.121  10.1103/PhysRevSeriesI.1.166\n",
       "2    10.1103/PhysRevSeriesI.7.93  10.1103/PhysRevSeriesI.1.166\n",
       "3  10.1103/PhysRevSeriesI.16.267   10.1103/PhysRevSeriesI.2.35\n",
       "4   10.1103/PhysRevSeriesI.17.65  10.1103/PhysRevSeriesI.2.112"
      ]
     },
     "execution_count": 4,
     "metadata": {},
     "output_type": "execute_result"
    }
   ],
   "source": [
    "df.head(5)"
   ]
  },
  {
   "cell_type": "code",
   "execution_count": 6,
   "id": "190135c3-e18e-4e9d-b469-c14e092d28f5",
   "metadata": {},
   "outputs": [
    {
     "data": {
      "text/plain": [
       "8850333"
      ]
     },
     "execution_count": 6,
     "metadata": {},
     "output_type": "execute_result"
    }
   ],
   "source": [
    "len(df)"
   ]
  },
  {
   "cell_type": "code",
   "execution_count": 40,
   "id": "eee11487-57ac-419c-9b4e-f2bba8e577c7",
   "metadata": {},
   "outputs": [],
   "source": [
    "def get_metadata(dois: List[str], is_id=False):\n",
    "    dois_queries = []\n",
    "    max_size = 25\n",
    "    \n",
    "    if is_id == False:\n",
    "        doi_prefix = \"https://doi.org/\"\n",
    "        dois_cat = [doi_prefix + doi for doi in dois]\n",
    "        while dois_cat: \n",
    "            chunk, dois_cat = dois_cat[:max_size], dois_cat[max_size:]\n",
    "            query = \"|\".join(chunk)\n",
    "            dois_queries.append(query)\n",
    "    else:\n",
    "        while dois: \n",
    "            chunk, dois = dois[:max_size], dois[max_size:]\n",
    "            dois_queries.append(chunk)\n",
    "\n",
    "    all_results = []\n",
    "    for q in dois_queries:\n",
    "        if is_id == False:\n",
    "            results = Works().filter(doi=q).get()\n",
    "        else:\n",
    "            results = Works()[q]\n",
    "        filtered_results = []\n",
    "        for r in results:\n",
    "            try:\n",
    "                found_first_author = False\n",
    "                for fa_idx in range(len(r[\"authorships\"])):\n",
    "                    if r[\"authorships\"][fa_idx]['author_position'] == 'first':\n",
    "                        found_first_author = True\n",
    "                        break\n",
    "                        \n",
    "                sorted_keywords = [m[\"keyword\"] for m in sorted(r[\"keywords\"], key=lambda x: x['score'], reverse=True)]\n",
    "                all_authors = [m[\"raw_author_name\"] for m in r[\"authorships\"]]\n",
    "                sorted_authors_af = [m[\"raw_affiliation_string\"] for m in r[\"authorships\"]] \n",
    "                filtered_results.append({\n",
    "                    \"doi\": str(r[\"doi\"]),\n",
    "                    \"id\": str(r[\"id\"]),\n",
    "                    \"abstract\": str(r[\"abstract\"]),\n",
    "                    \"title\": str(r[\"title\"]),\n",
    "                    \"publication_date\": str(r[\"publication_date\"]),\n",
    "                    \"type\": str(r[\"type\"]),\n",
    "                    \"type_crossref\": str(r[\"type_crossref\"]),\n",
    "                    \"keywords\": sorted_keywords,\n",
    "                    \"first_author\": str(r[\"authorships\"][fa_idx]['raw_author_name']) if found_first_author else \"\",\n",
    "                    #\"host_organization_name\": str(r[\"primary_location\"][\"source\"][\"host_organization_name\"]) if \"source\" in r[\"primary_location\"] and ,\n",
    "                    \"all_authors\": all_authors,\n",
    "                    \"all_authors_af\": sorted_authors_af,\n",
    "                    \"language\": r[\"language\"],\n",
    "                    \"referenced_works\": r[\"referenced_works\"],\n",
    "                    \"referenced_works_count\": r[\"referenced_works_count\"],\n",
    "                    \"related_works\": r[\"related_works\"],\n",
    "                    \"concepts\": [(c[\"display_name\"], c[\"score\"]) for c in r[\"concepts\"]] if r[\"concepts\"] else [],\n",
    "                    \"is_accepted\": r[\"primary_location\"][\"is_accepted\"],\n",
    "                    \"is_published\": r[\"primary_location\"][\"is_published\"],\n",
    "                })\n",
    "            except:\n",
    "                pass\n",
    "        all_results.extend(filtered_results)\n",
    "    return all_results"
   ]
  },
  {
   "cell_type": "code",
   "execution_count": 26,
   "id": "9bd1233b-db80-4718-8e51-c72ee9dfedcc",
   "metadata": {},
   "outputs": [],
   "source": [
    "#df_sample = df.sample(n=10_000, random_state=0)\n",
    "unique_dois = df[\"citing_doi\"].tolist() + df[\"cited_doi\"].tolist()\n",
    "unique_dois = list(set(unique_dois))"
   ]
  },
  {
   "cell_type": "code",
   "execution_count": 9,
   "id": "ad4bd611-592f-48e5-91d8-7e1795e086a9",
   "metadata": {},
   "outputs": [
    {
     "name": "stdout",
     "output_type": "stream",
     "text": [
      "668383\n"
     ]
    }
   ],
   "source": [
    "print(len(unique_dois))"
   ]
  },
  {
   "cell_type": "code",
   "execution_count": 276,
   "id": "08ade1b6-2306-4a9c-a0ad-a81e7afcc290",
   "metadata": {},
   "outputs": [],
   "source": [
    "#res"
   ]
  },
  {
   "cell_type": "code",
   "execution_count": 39,
   "id": "dc516f03-ff6e-4571-b816-8890885300fd",
   "metadata": {},
   "outputs": [],
   "source": [
    "N = len(unique_dois)\n",
    "divs = 10\n",
    "piece_size = int(N / divs) + 1"
   ]
  },
  {
   "cell_type": "code",
   "execution_count": 41,
   "id": "8f449376-983a-4393-bb35-a6f9e40bee4b",
   "metadata": {},
   "outputs": [
    {
     "name": "stderr",
     "output_type": "stream",
     "text": [
      "100%|██████████████████████████████████| 4/4 [00:00<00:00, 133.42it/s]\n"
     ]
    },
    {
     "name": "stdout",
     "output_type": "stream",
     "text": [
      "66833\n"
     ]
    },
    {
     "name": "stderr",
     "output_type": "stream",
     "text": [
      "100%|█████████████████████████████████| 4/4 [00:00<00:00, 5845.72it/s]\n"
     ]
    },
    {
     "name": "stdout",
     "output_type": "stream",
     "text": [
      "66836\n"
     ]
    },
    {
     "name": "stderr",
     "output_type": "stream",
     "text": [
      "100%|█████████████████████████████████| 4/4 [00:00<00:00, 6150.01it/s]\n"
     ]
    },
    {
     "name": "stdout",
     "output_type": "stream",
     "text": [
      "66834\n"
     ]
    },
    {
     "name": "stderr",
     "output_type": "stream",
     "text": [
      "100%|█████████████████████████████████| 4/4 [00:00<00:00, 1136.05it/s]\n"
     ]
    },
    {
     "name": "stdout",
     "output_type": "stream",
     "text": [
      "66831\n"
     ]
    },
    {
     "name": "stderr",
     "output_type": "stream",
     "text": [
      "100%|█████████████████████████████████| 4/4 [00:00<00:00, 8069.85it/s]\n"
     ]
    },
    {
     "name": "stdout",
     "output_type": "stream",
     "text": [
      "66838\n"
     ]
    },
    {
     "name": "stderr",
     "output_type": "stream",
     "text": [
      "100%|██████████████████████████████████| 4/4 [00:00<00:00, 297.07it/s]\n"
     ]
    },
    {
     "name": "stdout",
     "output_type": "stream",
     "text": [
      "66834\n"
     ]
    },
    {
     "name": "stderr",
     "output_type": "stream",
     "text": [
      "100%|█████████████████████████████████| 4/4 [00:00<00:00, 8966.98it/s]\n"
     ]
    },
    {
     "name": "stdout",
     "output_type": "stream",
     "text": [
      "66833\n"
     ]
    },
    {
     "name": "stderr",
     "output_type": "stream",
     "text": [
      "100%|█████████████████████████████████| 4/4 [00:00<00:00, 6574.14it/s]\n"
     ]
    },
    {
     "name": "stdout",
     "output_type": "stream",
     "text": [
      "66833\n"
     ]
    },
    {
     "name": "stderr",
     "output_type": "stream",
     "text": [
      "100%|█████████████████████████████████| 4/4 [00:00<00:00, 6538.28it/s]\n"
     ]
    },
    {
     "name": "stdout",
     "output_type": "stream",
     "text": [
      "66837\n"
     ]
    },
    {
     "name": "stderr",
     "output_type": "stream",
     "text": [
      "100%|█████████████████████████████████| 4/4 [00:00<00:00, 8890.95it/s]\n"
     ]
    },
    {
     "name": "stdout",
     "output_type": "stream",
     "text": [
      "66828\n"
     ]
    }
   ],
   "source": [
    "all_data = []\n",
    "for div in range(divs):\n",
    "    unique_dois_piece = unique_dois[div * piece_size:(div + 1) * piece_size]\n",
    "    \n",
    "    N_piece = len(unique_dois_piece)\n",
    "    NUM_JOBS = 4\n",
    "    job_piece_size = int(N_piece / NUM_JOBS) + 1\n",
    "    chunks = [unique_dois_piece[job_piece_size * i:job_piece_size * (i + 1)] for i in range(NUM_JOBS)]\n",
    "    \n",
    "    metadata = Parallel(n_jobs=NUM_JOBS)(delayed(get_metadata)(d) for d in tqdm(chunks, total=len(chunks)))\n",
    "    metadata = list(itertools.chain.from_iterable(metadata))\n",
    "    print(len(metadata))\n",
    "    all_data.extend(metadata)"
   ]
  },
  {
   "cell_type": "code",
   "execution_count": 42,
   "id": "23dd6026-f380-4c3f-a189-b768a5c62904",
   "metadata": {},
   "outputs": [],
   "source": [
    "df_metadata = pd.DataFrame(all_data)"
   ]
  },
  {
   "cell_type": "code",
   "execution_count": 47,
   "id": "3effdb81-f651-42d9-8f56-727063895aa0",
   "metadata": {},
   "outputs": [
    {
     "data": {
      "text/plain": [
       "668263"
      ]
     },
     "execution_count": 47,
     "metadata": {},
     "output_type": "execute_result"
    }
   ],
   "source": [
    "len(df_metadata[\"doi\"].unique()) #[df_metadata[\"abstract\"] != \"\"]"
   ]
  },
  {
   "cell_type": "code",
   "execution_count": 44,
   "id": "54727f9a-85fc-4ad9-ae2d-b4eea7bf3163",
   "metadata": {},
   "outputs": [],
   "source": [
    "df_metadata.to_csv(\"metadata.csv\")"
   ]
  },
  {
   "cell_type": "code",
   "execution_count": 45,
   "id": "19596425-9e7c-4ab6-80f8-94b161f89963",
   "metadata": {},
   "outputs": [],
   "source": [
    "df_metadata.to_pickle(\"metadata.pkl\", compression={'method': 'gzip', 'compresslevel': 3, 'mtime': 1})"
   ]
  },
  {
   "cell_type": "code",
   "execution_count": 289,
   "id": "e5342618-fdde-4071-be3f-549bc656ccae",
   "metadata": {},
   "outputs": [
    {
     "data": {
      "text/plain": [
       "title\n",
       "Editorial: Promoting Inclusive and Respectful Communications                                                                                                                                                                                                                                                                                                                                                                                                                                                            16\n",
       "Discussion                                                                                                                                                                                                                                                                                                                                                                                                                                                                                                              12\n",
       "Proceedings of the American Physical Society                                                                                                                                                                                                                                                                                                                                                                                                                                                                            10\n",
       "Erratum: Evolution of circular, nonequatorial orbits of Kerr black holes due to gravitational-wave emission [Phys. Rev. D<b>61</b>, 084004 (2000)]                                                                                                                                                                                                                                                                                                                                                                       6\n",
       "Measurement of the<mml:math xmlns:mml=\"http://www.w3.org/1998/Math/MathML\" display=\"inline\"><mml:mi>t</mml:mi><mml:mover accent=\"true\"><mml:mi>t</mml:mi><mml:mo>¯</mml:mo></mml:mover></mml:math>production cross section in<mml:math xmlns:mml=\"http://www.w3.org/1998/Math/MathML\" display=\"inline\"><mml:mi>p</mml:mi><mml:mover accent=\"true\"><mml:mi>p</mml:mi><mml:mo>¯</mml:mo></mml:mover></mml:math>collisions at<mml:math xmlns:mml=\"http://www.w3.org/1998/Math/MathML\" display=\"inline\"><mml:msqrt><mml…     6\n",
       "                                                                                                                                                                                                                                                                                                                                                                                                                                                                                                                        ..\n",
       "Nonequilibrium electroweak baryogenesis at preheating after inflation                                                                                                                                                                                                                                                                                                                                                                                                                                                    1\n",
       "Memory formation in matter                                                                                                                                                                                                                                                                                                                                                                                                                                                                                               1\n",
       "Interstellar<mml:math xmlns:mml=\"http://www.w3.org/1998/Math/MathML\" display=\"inline\"><mml:mrow><mml:mmultiscripts><mml:mrow><mml:mi>Fe</mml:mi></mml:mrow><mml:mprescripts /><mml:none /><mml:mrow><mml:mn>60</mml:mn></mml:mrow></mml:mmultiscripts></mml:mrow></mml:math>on the Surface of the Moon                                                                                                                                                                                                                   1\n",
       "<mml:math xmlns:mml=\"http://www.w3.org/1998/Math/MathML\" display=\"inline\"><mml:mrow><mml:mi>f</mml:mi></mml:mrow></mml:math>-<mml:math xmlns:mml=\"http://www.w3.org/1998/Math/MathML\" display=\"inline\"><mml:mrow><mml:mi>f</mml:mi></mml:mrow></mml:math>origin of the insulating state in uranium dioxide: X-ray absorption experiments and first-principles calculations                                                                                                                                               1\n",
       "Superconductor to weak-insulator transitions in disordered tantalum nitride films                                                                                                                                                                                                                                                                                                                                                                                                                                        1\n",
       "Name: count, Length: 665891, dtype: int64"
      ]
     },
     "execution_count": 289,
     "metadata": {},
     "output_type": "execute_result"
    }
   ],
   "source": [
    "df_metadata[\"title\"].value_counts()"
   ]
  },
  {
   "cell_type": "code",
   "execution_count": 46,
   "id": "7e16027c-c1e7-468f-a060-a917778d42fc",
   "metadata": {},
   "outputs": [
    {
     "data": {
      "text/html": [
       "<div>\n",
       "<style scoped>\n",
       "    .dataframe tbody tr th:only-of-type {\n",
       "        vertical-align: middle;\n",
       "    }\n",
       "\n",
       "    .dataframe tbody tr th {\n",
       "        vertical-align: top;\n",
       "    }\n",
       "\n",
       "    .dataframe thead th {\n",
       "        text-align: right;\n",
       "    }\n",
       "</style>\n",
       "<table border=\"1\" class=\"dataframe\">\n",
       "  <thead>\n",
       "    <tr style=\"text-align: right;\">\n",
       "      <th></th>\n",
       "      <th>doi</th>\n",
       "      <th>id</th>\n",
       "      <th>abstract</th>\n",
       "      <th>title</th>\n",
       "      <th>publication_date</th>\n",
       "      <th>type</th>\n",
       "      <th>type_crossref</th>\n",
       "      <th>keywords</th>\n",
       "      <th>first_author</th>\n",
       "      <th>all_authors</th>\n",
       "      <th>all_authors_af</th>\n",
       "      <th>language</th>\n",
       "      <th>referenced_works</th>\n",
       "      <th>referenced_works_count</th>\n",
       "      <th>related_works</th>\n",
       "      <th>concepts</th>\n",
       "      <th>is_accepted</th>\n",
       "      <th>is_published</th>\n",
       "    </tr>\n",
       "  </thead>\n",
       "  <tbody>\n",
       "    <tr>\n",
       "      <th>0</th>\n",
       "      <td>https://doi.org/10.1103/physrevlett.26.192</td>\n",
       "      <td>https://openalex.org/W2050313003</td>\n",
       "      <td>Tunneling measurements on junctions between ve...</td>\n",
       "      <td>Spin-Dependent Tunneling into Ferromagnetic Ni...</td>\n",
       "      <td>1971-01-25</td>\n",
       "      <td>article</td>\n",
       "      <td>journal-article</td>\n",
       "      <td>[nickel, spin-dependent]</td>\n",
       "      <td>P. M. Tedrow</td>\n",
       "      <td>[P. M. Tedrow, R. Meservey]</td>\n",
       "      <td>[Francis Bitter National Magnet Laboratory, Ma...</td>\n",
       "      <td>en</td>\n",
       "      <td>[https://openalex.org/W1966010108, https://ope...</td>\n",
       "      <td>12</td>\n",
       "      <td>[https://openalex.org/W1998765608, https://ope...</td>\n",
       "      <td>[(Condensed matter physics, 0.8544545), (Quant...</td>\n",
       "      <td>False</td>\n",
       "      <td>False</td>\n",
       "    </tr>\n",
       "    <tr>\n",
       "      <th>1</th>\n",
       "      <td>https://doi.org/10.1103/physreve.92.012819</td>\n",
       "      <td>https://openalex.org/W1758342214</td>\n",
       "      <td>Inspired by the fact that people have diverse ...</td>\n",
       "      <td>Competition and cooperation among different pu...</td>\n",
       "      <td>2015-07-27</td>\n",
       "      <td>article</td>\n",
       "      <td>journal-article</td>\n",
       "      <td>[different punishing strategies, competition, ...</td>\n",
       "      <td>Xiaojie Chen</td>\n",
       "      <td>[Xiaojie Chen, Attila Szolnoki, Matjaž Perc]</td>\n",
       "      <td>[School of Mathematical Sciences, University o...</td>\n",
       "      <td>en</td>\n",
       "      <td>[https://openalex.org/W748497126, https://open...</td>\n",
       "      <td>43</td>\n",
       "      <td>[https://openalex.org/W2996115615, https://ope...</td>\n",
       "      <td>[(Public goods game, 0.79590267), (Competition...</td>\n",
       "      <td>False</td>\n",
       "      <td>False</td>\n",
       "    </tr>\n",
       "    <tr>\n",
       "      <th>2</th>\n",
       "      <td>https://doi.org/10.1103/physrev.123.968</td>\n",
       "      <td>https://openalex.org/W2040287172</td>\n",
       "      <td>The scattering matrix for compound nucleus pro...</td>\n",
       "      <td>Theory of Average Neutron Reaction Cross Secti...</td>\n",
       "      <td>1961-08-01</td>\n",
       "      <td>article</td>\n",
       "      <td>journal-article</td>\n",
       "      <td>[cross sections, resonance]</td>\n",
       "      <td>P.A. Moldauer</td>\n",
       "      <td>[P.A. Moldauer]</td>\n",
       "      <td>[Argonne National Laboratory, Argonne, Illinois]</td>\n",
       "      <td>en</td>\n",
       "      <td>[https://openalex.org/W1965366397, https://ope...</td>\n",
       "      <td>19</td>\n",
       "      <td>[https://openalex.org/W2063585241, https://ope...</td>\n",
       "      <td>[(Physics, 0.75732374), (Resonance (particle p...</td>\n",
       "      <td>False</td>\n",
       "      <td>False</td>\n",
       "    </tr>\n",
       "    <tr>\n",
       "      <th>3</th>\n",
       "      <td>https://doi.org/10.1103/physrevlett.86.4536</td>\n",
       "      <td>https://openalex.org/W1973501299</td>\n",
       "      <td>The instability, dynamics, and morphological t...</td>\n",
       "      <td>Templating of Thin Films Induced by Dewetting ...</td>\n",
       "      <td>2001-05-14</td>\n",
       "      <td>article</td>\n",
       "      <td>journal-article</td>\n",
       "      <td>[thin films, surfaces]</td>\n",
       "      <td>Kajari Kargupta</td>\n",
       "      <td>[Kajari Kargupta, Ashutosh Sharma]</td>\n",
       "      <td>[Department of Chemical Engineering, Indian In...</td>\n",
       "      <td>en</td>\n",
       "      <td>[https://openalex.org/W1514074674, https://ope...</td>\n",
       "      <td>23</td>\n",
       "      <td>[https://openalex.org/W2236704256, https://ope...</td>\n",
       "      <td>[(Dewetting, 0.96603024), (Instability, 0.7001...</td>\n",
       "      <td>False</td>\n",
       "      <td>False</td>\n",
       "    </tr>\n",
       "    <tr>\n",
       "      <th>4</th>\n",
       "      <td>https://doi.org/10.1103/physrevlett.105.235502</td>\n",
       "      <td>https://openalex.org/W1535924615</td>\n",
       "      <td>The energy of arbitrary graphene edge is deriv...</td>\n",
       "      <td>Graphene Edge from Armchair to Zigzag: The Ori...</td>\n",
       "      <td>2010-12-03</td>\n",
       "      <td>article</td>\n",
       "      <td>journal-article</td>\n",
       "      <td>[nanotube chirality, graphene, edge]</td>\n",
       "      <td>Yuanyue Liu</td>\n",
       "      <td>[Yuanyue Liu, Alex Dobrinsky, Boris I. Yakobson]</td>\n",
       "      <td>[Department of Mechanical Engineering &amp; Materi...</td>\n",
       "      <td>en</td>\n",
       "      <td>[https://openalex.org/W1992192511, https://ope...</td>\n",
       "      <td>25</td>\n",
       "      <td>[https://openalex.org/W2318938206, https://ope...</td>\n",
       "      <td>[(Zigzag, 0.89218235), (Graphene, 0.8799213), ...</td>\n",
       "      <td>False</td>\n",
       "      <td>False</td>\n",
       "    </tr>\n",
       "    <tr>\n",
       "      <th>...</th>\n",
       "      <td>...</td>\n",
       "      <td>...</td>\n",
       "      <td>...</td>\n",
       "      <td>...</td>\n",
       "      <td>...</td>\n",
       "      <td>...</td>\n",
       "      <td>...</td>\n",
       "      <td>...</td>\n",
       "      <td>...</td>\n",
       "      <td>...</td>\n",
       "      <td>...</td>\n",
       "      <td>...</td>\n",
       "      <td>...</td>\n",
       "      <td>...</td>\n",
       "      <td>...</td>\n",
       "      <td>...</td>\n",
       "      <td>...</td>\n",
       "      <td>...</td>\n",
       "    </tr>\n",
       "    <tr>\n",
       "      <th>668332</th>\n",
       "      <td>https://doi.org/10.1103/physrevc.91.055802</td>\n",
       "      <td>https://openalex.org/W2157950109</td>\n",
       "      <td>In the standard Big-Bang nucleosynthesis (BBN)...</td>\n",
       "      <td>Revised thermonuclear rate of&lt;mml:math xmlns:m...</td>\n",
       "      <td>2015-05-08</td>\n",
       "      <td>article</td>\n",
       "      <td>journal-article</td>\n",
       "      <td>[thermonuclear rate, of&lt;mmlmath xmlnsmml=http/...</td>\n",
       "      <td>S. Q. Hou</td>\n",
       "      <td>[S. Q. Hou, J. J. He, S. Kubono, Y. S. Chen]</td>\n",
       "      <td>[Key Laboratory of High Precision Nuclear Spec...</td>\n",
       "      <td>en</td>\n",
       "      <td>[https://openalex.org/W1548963646, https://ope...</td>\n",
       "      <td>43</td>\n",
       "      <td>[https://openalex.org/W2935759653, https://ope...</td>\n",
       "      <td>[(Nucleosynthesis, 0.6656209), (Physics, 0.634...</td>\n",
       "      <td>False</td>\n",
       "      <td>False</td>\n",
       "    </tr>\n",
       "    <tr>\n",
       "      <th>668333</th>\n",
       "      <td>https://doi.org/10.1103/physrev.184.1052</td>\n",
       "      <td>https://openalex.org/W2332752927</td>\n",
       "      <td>Angular distributions have been measured for t...</td>\n",
       "      <td>Structure of&lt;mml:math xmlns:mml=\"http://www.w3...</td>\n",
       "      <td>1969-08-20</td>\n",
       "      <td>article</td>\n",
       "      <td>journal-article</td>\n",
       "      <td>[of&lt;mmlmath xmlnsmml=http//wwww3org/1998/math/...</td>\n",
       "      <td>G. W. Phillips</td>\n",
       "      <td>[G. W. Phillips, W. W. Jacobs]</td>\n",
       "      <td>[Department of Physics, University of Washingt...</td>\n",
       "      <td>en</td>\n",
       "      <td>[https://openalex.org/W1619847663, https://ope...</td>\n",
       "      <td>29</td>\n",
       "      <td>[https://openalex.org/W2068137917, https://ope...</td>\n",
       "      <td>[(Physics, 0.6926385), (Excited state, 0.62857...</td>\n",
       "      <td>False</td>\n",
       "      <td>False</td>\n",
       "    </tr>\n",
       "    <tr>\n",
       "      <th>668334</th>\n",
       "      <td>https://doi.org/10.1103/physrevb.60.11321</td>\n",
       "      <td>https://openalex.org/W2266492108</td>\n",
       "      <td>Infrared reflectance spectroscopy measurements...</td>\n",
       "      <td>Optical properties of&lt;mml:math xmlns:mml=\"http...</td>\n",
       "      <td>1999-10-15</td>\n",
       "      <td>article</td>\n",
       "      <td>journal-article</td>\n",
       "      <td>[optical properties]</td>\n",
       "      <td>S. V. Dordevic</td>\n",
       "      <td>[S. V. Dordevic, N. R. Dilley, E. D. Bauer, D....</td>\n",
       "      <td>[Department of Physics University of Californi...</td>\n",
       "      <td>en</td>\n",
       "      <td>[https://openalex.org/W1543827524, https://ope...</td>\n",
       "      <td>24</td>\n",
       "      <td>[https://openalex.org/W2356841320, https://ope...</td>\n",
       "      <td>[(Context (archaeology), 0.5357055), (Physics,...</td>\n",
       "      <td>False</td>\n",
       "      <td>False</td>\n",
       "    </tr>\n",
       "    <tr>\n",
       "      <th>668335</th>\n",
       "      <td>https://doi.org/10.1103/physreve.81.061123</td>\n",
       "      <td>https://openalex.org/W2080010785</td>\n",
       "      <td>Lipid monolayers have been shown to represent ...</td>\n",
       "      <td>Thermomechanic-electrical coupling in phosphol...</td>\n",
       "      <td>2010-06-15</td>\n",
       "      <td>article</td>\n",
       "      <td>journal-article</td>\n",
       "      <td>[phospholipid monolayers, thermomechanic-elect...</td>\n",
       "      <td>D. Steppich</td>\n",
       "      <td>[D. Steppich, J. Griesbauer, T. Frommelt, W. A...</td>\n",
       "      <td>[Experimental Physics I, University of Augsbur...</td>\n",
       "      <td>en</td>\n",
       "      <td>[https://openalex.org/W1984778795, https://ope...</td>\n",
       "      <td>17</td>\n",
       "      <td>[https://openalex.org/W1967878322, https://ope...</td>\n",
       "      <td>[(Heat capacity, 0.70857465), (Compressibility...</td>\n",
       "      <td>False</td>\n",
       "      <td>False</td>\n",
       "    </tr>\n",
       "    <tr>\n",
       "      <th>668336</th>\n",
       "      <td>https://doi.org/10.1103/physrevb.96.100302</td>\n",
       "      <td>https://openalex.org/W2755064271</td>\n",
       "      <td>Understanding the lattice thermal conductivity...</td>\n",
       "      <td>Thermal conductivity from phonon quasiparticle...</td>\n",
       "      <td>2017-09-11</td>\n",
       "      <td>article</td>\n",
       "      <td>journal-article</td>\n",
       "      <td>[phonon quasiparticles, thermal conductivity, ...</td>\n",
       "      <td>Dong Bo Zhang</td>\n",
       "      <td>[Dong Bo Zhang, Philip B. Allen, Tao Sun, Rena...</td>\n",
       "      <td>[Beijing Computational Science Research Center...</td>\n",
       "      <td>en</td>\n",
       "      <td>[https://openalex.org/W948814422, https://open...</td>\n",
       "      <td>54</td>\n",
       "      <td>[https://openalex.org/W2132162076, https://ope...</td>\n",
       "      <td>[(Quasiparticle, 0.89874643), (Phonon, 0.87388...</td>\n",
       "      <td>True</td>\n",
       "      <td>False</td>\n",
       "    </tr>\n",
       "  </tbody>\n",
       "</table>\n",
       "<p>668337 rows × 18 columns</p>\n",
       "</div>"
      ],
      "text/plain": [
       "                                                   doi  \\\n",
       "0           https://doi.org/10.1103/physrevlett.26.192   \n",
       "1           https://doi.org/10.1103/physreve.92.012819   \n",
       "2              https://doi.org/10.1103/physrev.123.968   \n",
       "3          https://doi.org/10.1103/physrevlett.86.4536   \n",
       "4       https://doi.org/10.1103/physrevlett.105.235502   \n",
       "...                                                ...   \n",
       "668332      https://doi.org/10.1103/physrevc.91.055802   \n",
       "668333        https://doi.org/10.1103/physrev.184.1052   \n",
       "668334       https://doi.org/10.1103/physrevb.60.11321   \n",
       "668335      https://doi.org/10.1103/physreve.81.061123   \n",
       "668336      https://doi.org/10.1103/physrevb.96.100302   \n",
       "\n",
       "                                      id  \\\n",
       "0       https://openalex.org/W2050313003   \n",
       "1       https://openalex.org/W1758342214   \n",
       "2       https://openalex.org/W2040287172   \n",
       "3       https://openalex.org/W1973501299   \n",
       "4       https://openalex.org/W1535924615   \n",
       "...                                  ...   \n",
       "668332  https://openalex.org/W2157950109   \n",
       "668333  https://openalex.org/W2332752927   \n",
       "668334  https://openalex.org/W2266492108   \n",
       "668335  https://openalex.org/W2080010785   \n",
       "668336  https://openalex.org/W2755064271   \n",
       "\n",
       "                                                 abstract  \\\n",
       "0       Tunneling measurements on junctions between ve...   \n",
       "1       Inspired by the fact that people have diverse ...   \n",
       "2       The scattering matrix for compound nucleus pro...   \n",
       "3       The instability, dynamics, and morphological t...   \n",
       "4       The energy of arbitrary graphene edge is deriv...   \n",
       "...                                                   ...   \n",
       "668332  In the standard Big-Bang nucleosynthesis (BBN)...   \n",
       "668333  Angular distributions have been measured for t...   \n",
       "668334  Infrared reflectance spectroscopy measurements...   \n",
       "668335  Lipid monolayers have been shown to represent ...   \n",
       "668336  Understanding the lattice thermal conductivity...   \n",
       "\n",
       "                                                    title publication_date  \\\n",
       "0       Spin-Dependent Tunneling into Ferromagnetic Ni...       1971-01-25   \n",
       "1       Competition and cooperation among different pu...       2015-07-27   \n",
       "2       Theory of Average Neutron Reaction Cross Secti...       1961-08-01   \n",
       "3       Templating of Thin Films Induced by Dewetting ...       2001-05-14   \n",
       "4       Graphene Edge from Armchair to Zigzag: The Ori...       2010-12-03   \n",
       "...                                                   ...              ...   \n",
       "668332  Revised thermonuclear rate of<mml:math xmlns:m...       2015-05-08   \n",
       "668333  Structure of<mml:math xmlns:mml=\"http://www.w3...       1969-08-20   \n",
       "668334  Optical properties of<mml:math xmlns:mml=\"http...       1999-10-15   \n",
       "668335  Thermomechanic-electrical coupling in phosphol...       2010-06-15   \n",
       "668336  Thermal conductivity from phonon quasiparticle...       2017-09-11   \n",
       "\n",
       "           type    type_crossref  \\\n",
       "0       article  journal-article   \n",
       "1       article  journal-article   \n",
       "2       article  journal-article   \n",
       "3       article  journal-article   \n",
       "4       article  journal-article   \n",
       "...         ...              ...   \n",
       "668332  article  journal-article   \n",
       "668333  article  journal-article   \n",
       "668334  article  journal-article   \n",
       "668335  article  journal-article   \n",
       "668336  article  journal-article   \n",
       "\n",
       "                                                 keywords     first_author  \\\n",
       "0                                [nickel, spin-dependent]     P. M. Tedrow   \n",
       "1       [different punishing strategies, competition, ...     Xiaojie Chen   \n",
       "2                             [cross sections, resonance]    P.A. Moldauer   \n",
       "3                                  [thin films, surfaces]  Kajari Kargupta   \n",
       "4                    [nanotube chirality, graphene, edge]      Yuanyue Liu   \n",
       "...                                                   ...              ...   \n",
       "668332  [thermonuclear rate, of<mmlmath xmlnsmml=http/...        S. Q. Hou   \n",
       "668333  [of<mmlmath xmlnsmml=http//wwww3org/1998/math/...   G. W. Phillips   \n",
       "668334                               [optical properties]   S. V. Dordevic   \n",
       "668335  [phospholipid monolayers, thermomechanic-elect...      D. Steppich   \n",
       "668336  [phonon quasiparticles, thermal conductivity, ...    Dong Bo Zhang   \n",
       "\n",
       "                                              all_authors  \\\n",
       "0                             [P. M. Tedrow, R. Meservey]   \n",
       "1            [Xiaojie Chen, Attila Szolnoki, Matjaž Perc]   \n",
       "2                                         [P.A. Moldauer]   \n",
       "3                      [Kajari Kargupta, Ashutosh Sharma]   \n",
       "4        [Yuanyue Liu, Alex Dobrinsky, Boris I. Yakobson]   \n",
       "...                                                   ...   \n",
       "668332       [S. Q. Hou, J. J. He, S. Kubono, Y. S. Chen]   \n",
       "668333                     [G. W. Phillips, W. W. Jacobs]   \n",
       "668334  [S. V. Dordevic, N. R. Dilley, E. D. Bauer, D....   \n",
       "668335  [D. Steppich, J. Griesbauer, T. Frommelt, W. A...   \n",
       "668336  [Dong Bo Zhang, Philip B. Allen, Tao Sun, Rena...   \n",
       "\n",
       "                                           all_authors_af language  \\\n",
       "0       [Francis Bitter National Magnet Laboratory, Ma...       en   \n",
       "1       [School of Mathematical Sciences, University o...       en   \n",
       "2        [Argonne National Laboratory, Argonne, Illinois]       en   \n",
       "3       [Department of Chemical Engineering, Indian In...       en   \n",
       "4       [Department of Mechanical Engineering & Materi...       en   \n",
       "...                                                   ...      ...   \n",
       "668332  [Key Laboratory of High Precision Nuclear Spec...       en   \n",
       "668333  [Department of Physics, University of Washingt...       en   \n",
       "668334  [Department of Physics University of Californi...       en   \n",
       "668335  [Experimental Physics I, University of Augsbur...       en   \n",
       "668336  [Beijing Computational Science Research Center...       en   \n",
       "\n",
       "                                         referenced_works  \\\n",
       "0       [https://openalex.org/W1966010108, https://ope...   \n",
       "1       [https://openalex.org/W748497126, https://open...   \n",
       "2       [https://openalex.org/W1965366397, https://ope...   \n",
       "3       [https://openalex.org/W1514074674, https://ope...   \n",
       "4       [https://openalex.org/W1992192511, https://ope...   \n",
       "...                                                   ...   \n",
       "668332  [https://openalex.org/W1548963646, https://ope...   \n",
       "668333  [https://openalex.org/W1619847663, https://ope...   \n",
       "668334  [https://openalex.org/W1543827524, https://ope...   \n",
       "668335  [https://openalex.org/W1984778795, https://ope...   \n",
       "668336  [https://openalex.org/W948814422, https://open...   \n",
       "\n",
       "        referenced_works_count  \\\n",
       "0                           12   \n",
       "1                           43   \n",
       "2                           19   \n",
       "3                           23   \n",
       "4                           25   \n",
       "...                        ...   \n",
       "668332                      43   \n",
       "668333                      29   \n",
       "668334                      24   \n",
       "668335                      17   \n",
       "668336                      54   \n",
       "\n",
       "                                            related_works  \\\n",
       "0       [https://openalex.org/W1998765608, https://ope...   \n",
       "1       [https://openalex.org/W2996115615, https://ope...   \n",
       "2       [https://openalex.org/W2063585241, https://ope...   \n",
       "3       [https://openalex.org/W2236704256, https://ope...   \n",
       "4       [https://openalex.org/W2318938206, https://ope...   \n",
       "...                                                   ...   \n",
       "668332  [https://openalex.org/W2935759653, https://ope...   \n",
       "668333  [https://openalex.org/W2068137917, https://ope...   \n",
       "668334  [https://openalex.org/W2356841320, https://ope...   \n",
       "668335  [https://openalex.org/W1967878322, https://ope...   \n",
       "668336  [https://openalex.org/W2132162076, https://ope...   \n",
       "\n",
       "                                                 concepts  is_accepted  \\\n",
       "0       [(Condensed matter physics, 0.8544545), (Quant...        False   \n",
       "1       [(Public goods game, 0.79590267), (Competition...        False   \n",
       "2       [(Physics, 0.75732374), (Resonance (particle p...        False   \n",
       "3       [(Dewetting, 0.96603024), (Instability, 0.7001...        False   \n",
       "4       [(Zigzag, 0.89218235), (Graphene, 0.8799213), ...        False   \n",
       "...                                                   ...          ...   \n",
       "668332  [(Nucleosynthesis, 0.6656209), (Physics, 0.634...        False   \n",
       "668333  [(Physics, 0.6926385), (Excited state, 0.62857...        False   \n",
       "668334  [(Context (archaeology), 0.5357055), (Physics,...        False   \n",
       "668335  [(Heat capacity, 0.70857465), (Compressibility...        False   \n",
       "668336  [(Quasiparticle, 0.89874643), (Phonon, 0.87388...         True   \n",
       "\n",
       "        is_published  \n",
       "0              False  \n",
       "1              False  \n",
       "2              False  \n",
       "3              False  \n",
       "4              False  \n",
       "...              ...  \n",
       "668332         False  \n",
       "668333         False  \n",
       "668334         False  \n",
       "668335         False  \n",
       "668336         False  \n",
       "\n",
       "[668337 rows x 18 columns]"
      ]
     },
     "execution_count": 46,
     "metadata": {},
     "output_type": "execute_result"
    }
   ],
   "source": [
    "df_metadata[df_metadata[\"abstract\"].notna()]"
   ]
  },
  {
   "cell_type": "code",
   "execution_count": null,
   "id": "44499a29-f446-4f0a-aa0a-2c2d6bd91c2d",
   "metadata": {},
   "outputs": [],
   "source": []
  }
 ],
 "metadata": {
  "kernelspec": {
   "display_name": "Python 3 (ipykernel)",
   "language": "python",
   "name": "python3"
  },
  "language_info": {
   "codemirror_mode": {
    "name": "ipython",
    "version": 3
   },
   "file_extension": ".py",
   "mimetype": "text/x-python",
   "name": "python",
   "nbconvert_exporter": "python",
   "pygments_lexer": "ipython3",
   "version": "3.10.13"
  }
 },
 "nbformat": 4,
 "nbformat_minor": 5
}
