{
 "cells": [
  {
   "cell_type": "code",
   "execution_count": 270,
   "id": "e4c7e7dd-2fc6-44ee-9a7b-3b81b2c0a5c5",
   "metadata": {},
   "outputs": [],
   "source": [
    "import pandas as pd\n",
    "from pyalex import Works, Authors, Sources, Institutions, Concepts, Publishers, Funders\n",
    "from tqdm import tqdm\n",
    "from multiprocess import Process, Manager\n",
    "from typing import List, Dict\n",
    "import json\n",
    "from joblib import delayed, Parallel\n",
    "import itertools"
   ]
  },
  {
   "cell_type": "code",
   "execution_count": 271,
   "id": "e8ad6d4c-c79e-4a75-b57c-65e0d0e52c08",
   "metadata": {},
   "outputs": [],
   "source": [
    "df = pd.read_csv(\"aps-dataset-citations-2020.csv\")"
   ]
  },
  {
   "cell_type": "code",
   "execution_count": 272,
   "id": "827ce440-8113-4fe0-8291-c5f5cdaa5fb0",
   "metadata": {},
   "outputs": [
    {
     "data": {
      "text/html": [
       "<div>\n",
       "<style scoped>\n",
       "    .dataframe tbody tr th:only-of-type {\n",
       "        vertical-align: middle;\n",
       "    }\n",
       "\n",
       "    .dataframe tbody tr th {\n",
       "        vertical-align: top;\n",
       "    }\n",
       "\n",
       "    .dataframe thead th {\n",
       "        text-align: right;\n",
       "    }\n",
       "</style>\n",
       "<table border=\"1\" class=\"dataframe\">\n",
       "  <thead>\n",
       "    <tr style=\"text-align: right;\">\n",
       "      <th></th>\n",
       "      <th>citing_doi</th>\n",
       "      <th>cited_doi</th>\n",
       "    </tr>\n",
       "  </thead>\n",
       "  <tbody>\n",
       "    <tr>\n",
       "      <th>0</th>\n",
       "      <td>10.1103/PhysRevSeriesI.11.215</td>\n",
       "      <td>10.1103/PhysRevSeriesI.1.1</td>\n",
       "    </tr>\n",
       "    <tr>\n",
       "      <th>1</th>\n",
       "      <td>10.1103/PhysRevSeriesI.12.121</td>\n",
       "      <td>10.1103/PhysRevSeriesI.1.166</td>\n",
       "    </tr>\n",
       "    <tr>\n",
       "      <th>2</th>\n",
       "      <td>10.1103/PhysRevSeriesI.7.93</td>\n",
       "      <td>10.1103/PhysRevSeriesI.1.166</td>\n",
       "    </tr>\n",
       "    <tr>\n",
       "      <th>3</th>\n",
       "      <td>10.1103/PhysRevSeriesI.16.267</td>\n",
       "      <td>10.1103/PhysRevSeriesI.2.35</td>\n",
       "    </tr>\n",
       "    <tr>\n",
       "      <th>4</th>\n",
       "      <td>10.1103/PhysRevSeriesI.17.65</td>\n",
       "      <td>10.1103/PhysRevSeriesI.2.112</td>\n",
       "    </tr>\n",
       "  </tbody>\n",
       "</table>\n",
       "</div>"
      ],
      "text/plain": [
       "                      citing_doi                     cited_doi\n",
       "0  10.1103/PhysRevSeriesI.11.215    10.1103/PhysRevSeriesI.1.1\n",
       "1  10.1103/PhysRevSeriesI.12.121  10.1103/PhysRevSeriesI.1.166\n",
       "2    10.1103/PhysRevSeriesI.7.93  10.1103/PhysRevSeriesI.1.166\n",
       "3  10.1103/PhysRevSeriesI.16.267   10.1103/PhysRevSeriesI.2.35\n",
       "4   10.1103/PhysRevSeriesI.17.65  10.1103/PhysRevSeriesI.2.112"
      ]
     },
     "execution_count": 272,
     "metadata": {},
     "output_type": "execute_result"
    }
   ],
   "source": [
    "df.head(5)"
   ]
  },
  {
   "cell_type": "code",
   "execution_count": 273,
   "id": "eee11487-57ac-419c-9b4e-f2bba8e577c7",
   "metadata": {},
   "outputs": [],
   "source": [
    "def get_metadata(dois: List[str]):\n",
    "    doi_prefix = \"https://doi.org/\"\n",
    "    dois_cat = [doi_prefix + doi for doi in dois]\n",
    "\n",
    "    dois_queries = []\n",
    "    max_size = 25\n",
    "    while dois_cat: \n",
    "        chunk, dois_cat = dois_cat[:max_size], dois_cat[max_size:]\n",
    "        query = \"|\".join(chunk)\n",
    "        dois_queries.append(query)\n",
    "\n",
    "    all_results = []\n",
    "    for q in dois_queries:\n",
    "        results = Works().filter(doi=q).get()\n",
    "        filtered_results = []\n",
    "        for r in results:\n",
    "            found_first_author = False\n",
    "            for fa_idx in range(len(r[\"authorships\"])):\n",
    "                if r[\"authorships\"][fa_idx]['author_position'] == 'first':\n",
    "                    found_first_author = True\n",
    "                    break\n",
    "                    \n",
    "            sorted_keywords = [m[\"keyword\"] for m in sorted(r[\"keywords\"], key=lambda x: x['score'], reverse=True)]\n",
    "            all_authors = [m[\"raw_author_name\"] for m in r[\"authorships\"]]\n",
    "            sorted_authors_af = [m[\"raw_affiliation_string\"] for m in r[\"authorships\"]] \n",
    "            filtered_results.append({\n",
    "                \"doi\": str(r[\"doi\"]),\n",
    "                \"id\": str(r[\"id\"]),\n",
    "                \"abstract\": str(r[\"abstract\"]),\n",
    "                \"title\": str(r[\"title\"]),\n",
    "                \"publication_date\": str(r[\"publication_date\"]),\n",
    "                \"type\": str(r[\"type\"]),\n",
    "                \"type_crossref\": str(r[\"type_crossref\"]),\n",
    "                \"keywords\": sorted_keywords,\n",
    "                \"first_author\": str(r[\"authorships\"][fa_idx]['raw_author_name']) if found_first_author else \"\",\n",
    "                \"host_organization_name\": str(r[\"primary_location\"][\"source\"][\"host_organization_name\"]),\n",
    "                \"all_authors\": all_authors,\n",
    "                \"all_authors_af\": sorted_authors_af,\n",
    "                \"language\": r[\"language\"],\n",
    "            })\n",
    "        all_results.extend(filtered_results)\n",
    "    return all_results"
   ]
  },
  {
   "cell_type": "code",
   "execution_count": 274,
   "id": "9bd1233b-db80-4718-8e51-c72ee9dfedcc",
   "metadata": {},
   "outputs": [],
   "source": [
    "#df_sample = df.sample(n=10_000, random_state=0)\n",
    "unique_dois = df[\"citing_doi\"].tolist() + df[\"cited_doi\"].tolist()\n",
    "unique_dois = list(set(unique_dois))"
   ]
  },
  {
   "cell_type": "code",
   "execution_count": 275,
   "id": "ad4bd611-592f-48e5-91d8-7e1795e086a9",
   "metadata": {},
   "outputs": [
    {
     "name": "stdout",
     "output_type": "stream",
     "text": [
      "668383\n"
     ]
    }
   ],
   "source": [
    "print(len(unique_dois))"
   ]
  },
  {
   "cell_type": "code",
   "execution_count": 276,
   "id": "08ade1b6-2306-4a9c-a0ad-a81e7afcc290",
   "metadata": {},
   "outputs": [],
   "source": [
    "#res"
   ]
  },
  {
   "cell_type": "code",
   "execution_count": 277,
   "id": "dc516f03-ff6e-4571-b816-8890885300fd",
   "metadata": {},
   "outputs": [],
   "source": [
    "N = len(unique_dois)\n",
    "divs = 10\n",
    "piece_size = int(N / divs) + 1"
   ]
  },
  {
   "cell_type": "code",
   "execution_count": 278,
   "id": "8f449376-983a-4393-bb35-a6f9e40bee4b",
   "metadata": {},
   "outputs": [
    {
     "name": "stderr",
     "output_type": "stream",
     "text": [
      "100%|████████████████████████████████████████████| 4/4 [00:00<00:00, 875.27it/s]\n"
     ]
    },
    {
     "name": "stdout",
     "output_type": "stream",
     "text": [
      "66838\n"
     ]
    },
    {
     "name": "stderr",
     "output_type": "stream",
     "text": [
      "100%|████████████████████████████████████████████| 4/4 [00:00<00:00, 929.18it/s]\n"
     ]
    },
    {
     "name": "stdout",
     "output_type": "stream",
     "text": [
      "66831\n"
     ]
    },
    {
     "name": "stderr",
     "output_type": "stream",
     "text": [
      "100%|████████████████████████████████████████████| 4/4 [00:00<00:00, 533.24it/s]\n"
     ]
    },
    {
     "name": "stdout",
     "output_type": "stream",
     "text": [
      "66832\n"
     ]
    },
    {
     "name": "stderr",
     "output_type": "stream",
     "text": [
      "100%|███████████████████████████████████████████| 4/4 [00:00<00:00, 5427.76it/s]\n"
     ]
    },
    {
     "name": "stdout",
     "output_type": "stream",
     "text": [
      "66835\n"
     ]
    },
    {
     "name": "stderr",
     "output_type": "stream",
     "text": [
      "100%|███████████████████████████████████████████| 4/4 [00:00<00:00, 1140.76it/s]\n"
     ]
    },
    {
     "name": "stdout",
     "output_type": "stream",
     "text": [
      "66837\n"
     ]
    },
    {
     "name": "stderr",
     "output_type": "stream",
     "text": [
      "100%|███████████████████████████████████████████| 4/4 [00:00<00:00, 9692.21it/s]\n"
     ]
    },
    {
     "name": "stdout",
     "output_type": "stream",
     "text": [
      "66835\n"
     ]
    },
    {
     "name": "stderr",
     "output_type": "stream",
     "text": [
      "100%|███████████████████████████████████████████| 4/4 [00:00<00:00, 1340.25it/s]\n"
     ]
    },
    {
     "name": "stdout",
     "output_type": "stream",
     "text": [
      "66837\n"
     ]
    },
    {
     "name": "stderr",
     "output_type": "stream",
     "text": [
      "100%|████████████████████████████████████████████| 4/4 [00:00<00:00, 787.15it/s]\n"
     ]
    },
    {
     "name": "stdout",
     "output_type": "stream",
     "text": [
      "66838\n"
     ]
    },
    {
     "name": "stderr",
     "output_type": "stream",
     "text": [
      "100%|███████████████████████████████████████████| 4/4 [00:00<00:00, 1321.87it/s]\n"
     ]
    },
    {
     "name": "stdout",
     "output_type": "stream",
     "text": [
      "66835\n"
     ]
    },
    {
     "name": "stderr",
     "output_type": "stream",
     "text": [
      "100%|███████████████████████████████████████████| 4/4 [00:00<00:00, 4971.03it/s]\n"
     ]
    },
    {
     "name": "stdout",
     "output_type": "stream",
     "text": [
      "66827\n"
     ]
    }
   ],
   "source": [
    "all_data = []\n",
    "for div in range(divs):\n",
    "    unique_dois_piece = unique_dois[div * piece_size:(div + 1) * piece_size]\n",
    "    \n",
    "    N_piece = len(unique_dois_piece)\n",
    "    NUM_JOBS = 4\n",
    "    job_piece_size = int(N_piece / NUM_JOBS) + 1\n",
    "    chunks = [unique_dois_piece[job_piece_size * i:job_piece_size * (i + 1)] for i in range(NUM_JOBS)]\n",
    "    \n",
    "    metadata = Parallel(n_jobs=NUM_JOBS)(delayed(get_metadata)(d) for d in tqdm(chunks, total=len(chunks)))\n",
    "    metadata = list(itertools.chain.from_iterable(metadata))\n",
    "    print(len(metadata))\n",
    "    all_data.extend(metadata)"
   ]
  },
  {
   "cell_type": "code",
   "execution_count": 279,
   "id": "23dd6026-f380-4c3f-a189-b768a5c62904",
   "metadata": {},
   "outputs": [],
   "source": [
    "df_metadata = pd.DataFrame(all_data)"
   ]
  },
  {
   "cell_type": "code",
   "execution_count": 280,
   "id": "3effdb81-f651-42d9-8f56-727063895aa0",
   "metadata": {},
   "outputs": [
    {
     "data": {
      "text/plain": [
       "668272"
      ]
     },
     "execution_count": 280,
     "metadata": {},
     "output_type": "execute_result"
    }
   ],
   "source": [
    "len(df_metadata[\"doi\"].unique()) #[df_metadata[\"abstract\"] != \"\"]"
   ]
  },
  {
   "cell_type": "code",
   "execution_count": 281,
   "id": "54727f9a-85fc-4ad9-ae2d-b4eea7bf3163",
   "metadata": {},
   "outputs": [],
   "source": [
    "df_metadata.to_csv(\"metadata.csv\")"
   ]
  },
  {
   "cell_type": "code",
   "execution_count": 287,
   "id": "19596425-9e7c-4ab6-80f8-94b161f89963",
   "metadata": {},
   "outputs": [],
   "source": [
    "df_metadata.to_pickle(\"metadata.pkl\", compression={'method': 'gzip', 'compresslevel': 3, 'mtime': 1})"
   ]
  },
  {
   "cell_type": "code",
   "execution_count": 289,
   "id": "e5342618-fdde-4071-be3f-549bc656ccae",
   "metadata": {},
   "outputs": [
    {
     "data": {
      "text/plain": [
       "title\n",
       "Editorial: Promoting Inclusive and Respectful Communications                                                                                                                                                                                                                                                                                                                                                                                                                                                            16\n",
       "Discussion                                                                                                                                                                                                                                                                                                                                                                                                                                                                                                              12\n",
       "Proceedings of the American Physical Society                                                                                                                                                                                                                                                                                                                                                                                                                                                                            10\n",
       "Erratum: Evolution of circular, nonequatorial orbits of Kerr black holes due to gravitational-wave emission [Phys. Rev. D<b>61</b>, 084004 (2000)]                                                                                                                                                                                                                                                                                                                                                                       6\n",
       "Measurement of the<mml:math xmlns:mml=\"http://www.w3.org/1998/Math/MathML\" display=\"inline\"><mml:mi>t</mml:mi><mml:mover accent=\"true\"><mml:mi>t</mml:mi><mml:mo>¯</mml:mo></mml:mover></mml:math>production cross section in<mml:math xmlns:mml=\"http://www.w3.org/1998/Math/MathML\" display=\"inline\"><mml:mi>p</mml:mi><mml:mover accent=\"true\"><mml:mi>p</mml:mi><mml:mo>¯</mml:mo></mml:mover></mml:math>collisions at<mml:math xmlns:mml=\"http://www.w3.org/1998/Math/MathML\" display=\"inline\"><mml:msqrt><mml…     6\n",
       "                                                                                                                                                                                                                                                                                                                                                                                                                                                                                                                        ..\n",
       "Nonequilibrium electroweak baryogenesis at preheating after inflation                                                                                                                                                                                                                                                                                                                                                                                                                                                    1\n",
       "Memory formation in matter                                                                                                                                                                                                                                                                                                                                                                                                                                                                                               1\n",
       "Interstellar<mml:math xmlns:mml=\"http://www.w3.org/1998/Math/MathML\" display=\"inline\"><mml:mrow><mml:mmultiscripts><mml:mrow><mml:mi>Fe</mml:mi></mml:mrow><mml:mprescripts /><mml:none /><mml:mrow><mml:mn>60</mml:mn></mml:mrow></mml:mmultiscripts></mml:mrow></mml:math>on the Surface of the Moon                                                                                                                                                                                                                   1\n",
       "<mml:math xmlns:mml=\"http://www.w3.org/1998/Math/MathML\" display=\"inline\"><mml:mrow><mml:mi>f</mml:mi></mml:mrow></mml:math>-<mml:math xmlns:mml=\"http://www.w3.org/1998/Math/MathML\" display=\"inline\"><mml:mrow><mml:mi>f</mml:mi></mml:mrow></mml:math>origin of the insulating state in uranium dioxide: X-ray absorption experiments and first-principles calculations                                                                                                                                               1\n",
       "Superconductor to weak-insulator transitions in disordered tantalum nitride films                                                                                                                                                                                                                                                                                                                                                                                                                                        1\n",
       "Name: count, Length: 665891, dtype: int64"
      ]
     },
     "execution_count": 289,
     "metadata": {},
     "output_type": "execute_result"
    }
   ],
   "source": [
    "df_metadata[\"title\"].value_counts()"
   ]
  },
  {
   "cell_type": "code",
   "execution_count": 285,
   "id": "7e16027c-c1e7-468f-a060-a917778d42fc",
   "metadata": {},
   "outputs": [
    {
     "data": {
      "text/html": [
       "<div>\n",
       "<style scoped>\n",
       "    .dataframe tbody tr th:only-of-type {\n",
       "        vertical-align: middle;\n",
       "    }\n",
       "\n",
       "    .dataframe tbody tr th {\n",
       "        vertical-align: top;\n",
       "    }\n",
       "\n",
       "    .dataframe thead th {\n",
       "        text-align: right;\n",
       "    }\n",
       "</style>\n",
       "<table border=\"1\" class=\"dataframe\">\n",
       "  <thead>\n",
       "    <tr style=\"text-align: right;\">\n",
       "      <th></th>\n",
       "      <th>doi</th>\n",
       "      <th>id</th>\n",
       "      <th>abstract</th>\n",
       "      <th>title</th>\n",
       "      <th>publication_date</th>\n",
       "      <th>type</th>\n",
       "      <th>type_crossref</th>\n",
       "      <th>keywords</th>\n",
       "      <th>first_author</th>\n",
       "      <th>host_organization_name</th>\n",
       "      <th>all_authors</th>\n",
       "      <th>all_authors_af</th>\n",
       "      <th>language</th>\n",
       "    </tr>\n",
       "  </thead>\n",
       "  <tbody>\n",
       "    <tr>\n",
       "      <th>0</th>\n",
       "      <td>https://doi.org/10.1103/revmodphys.60.701</td>\n",
       "      <td>https://openalex.org/W1969695378</td>\n",
       "      <td>Recent advances in the study of solid surfaces...</td>\n",
       "      <td>Interaction of positron beams with surfaces, t...</td>\n",
       "      <td>1988-07-01</td>\n",
       "      <td>article</td>\n",
       "      <td>journal-article</td>\n",
       "      <td>[positron beams, thin films, surfaces, interac...</td>\n",
       "      <td>Peter J. Schultz</td>\n",
       "      <td>American Physical Society</td>\n",
       "      <td>[Peter J. Schultz, K. G. Lynn]</td>\n",
       "      <td>[Department of Physics, The University of West...</td>\n",
       "      <td>en</td>\n",
       "    </tr>\n",
       "    <tr>\n",
       "      <th>1</th>\n",
       "      <td>https://doi.org/10.1103/physrevc.20.820</td>\n",
       "      <td>https://openalex.org/W1976520037</td>\n",
       "      <td>A unified shell-model description of nuclear d...</td>\n",
       "      <td>Unified shell-model description of nuclear def...</td>\n",
       "      <td>1979-08-01</td>\n",
       "      <td>article</td>\n",
       "      <td>journal-article</td>\n",
       "      <td>[nuclear deformation, shell-model]</td>\n",
       "      <td>P. Federman</td>\n",
       "      <td>American Institute of Physics</td>\n",
       "      <td>[P. Federman, S. Pittel]</td>\n",
       "      <td>[Instituto de Fisica, Universidad Nacional Aut...</td>\n",
       "      <td>en</td>\n",
       "    </tr>\n",
       "    <tr>\n",
       "      <th>2</th>\n",
       "      <td>https://doi.org/10.1103/physrevlett.90.188103</td>\n",
       "      <td>https://openalex.org/W2032865683</td>\n",
       "      <td>Counterion atmospheres condensed onto charged ...</td>\n",
       "      <td>Counterion Distribution around DNA Probed by S...</td>\n",
       "      <td>2003-05-08</td>\n",
       "      <td>article</td>\n",
       "      <td>journal-article</td>\n",
       "      <td>[dna probed, scattering, x-ray]</td>\n",
       "      <td>R. Das</td>\n",
       "      <td>American Physical Society</td>\n",
       "      <td>[R. Das, T. T. Mills, L. W. Kwok, G. S. Maskel...</td>\n",
       "      <td>[Department of Biochemistry, Stanford Universi...</td>\n",
       "      <td>en</td>\n",
       "    </tr>\n",
       "    <tr>\n",
       "      <th>3</th>\n",
       "      <td>https://doi.org/10.1103/physrevd.72.025006</td>\n",
       "      <td>https://openalex.org/W1976726898</td>\n",
       "      <td>We present an extension of the twistor-motivat...</td>\n",
       "      <td>Twistor-inspired construction of electroweak v...</td>\n",
       "      <td>2005-07-13</td>\n",
       "      <td>article</td>\n",
       "      <td>journal-article</td>\n",
       "      <td>[twistor-inspired]</td>\n",
       "      <td>Zvi Bern</td>\n",
       "      <td>American Physical Society</td>\n",
       "      <td>[Zvi Bern, Darren Forde, David A. Kosower, Pie...</td>\n",
       "      <td>[Department of Physics and Astronomy, UCLA, Lo...</td>\n",
       "      <td>en</td>\n",
       "    </tr>\n",
       "    <tr>\n",
       "      <th>4</th>\n",
       "      <td>https://doi.org/10.1103/physrevstab.6.072001</td>\n",
       "      <td>https://openalex.org/W1974569415</td>\n",
       "      <td>We present measurements of dark currents and x...</td>\n",
       "      <td>Dark current, breakdown, and magnetic field ef...</td>\n",
       "      <td>2003-07-30</td>\n",
       "      <td>article</td>\n",
       "      <td>journal-article</td>\n",
       "      <td>[mhz cavity, magnetic field effects, magnetic ...</td>\n",
       "      <td>J. Norem</td>\n",
       "      <td>American Physical Society</td>\n",
       "      <td>[J. Norem, V. Wu, A. Moretti, M. Popovic, Z. Q...</td>\n",
       "      <td>[HEP Division, Argonne National Laboratory, Ar...</td>\n",
       "      <td>en</td>\n",
       "    </tr>\n",
       "    <tr>\n",
       "      <th>...</th>\n",
       "      <td>...</td>\n",
       "      <td>...</td>\n",
       "      <td>...</td>\n",
       "      <td>...</td>\n",
       "      <td>...</td>\n",
       "      <td>...</td>\n",
       "      <td>...</td>\n",
       "      <td>...</td>\n",
       "      <td>...</td>\n",
       "      <td>...</td>\n",
       "      <td>...</td>\n",
       "      <td>...</td>\n",
       "      <td>...</td>\n",
       "    </tr>\n",
       "    <tr>\n",
       "      <th>668340</th>\n",
       "      <td>https://doi.org/10.1103/physrev.74.1315</td>\n",
       "      <td>https://openalex.org/W1988389384</td>\n",
       "      <td>Simultaneous alpha-particle bombardments of ${...</td>\n",
       "      <td>Radioactive Arsenic Isotopes</td>\n",
       "      <td>1948-11-15</td>\n",
       "      <td>article</td>\n",
       "      <td>journal-article</td>\n",
       "      <td>[isotopes, arsenic]</td>\n",
       "      <td>D.A. McCown</td>\n",
       "      <td>American Institute of Physics</td>\n",
       "      <td>[D.A. McCown, L.L. Woodward, M.L. Pool]</td>\n",
       "      <td>[THE OHIO STATE UNIVERSITY COLUMBUS, OHIO, THE...</td>\n",
       "      <td>en</td>\n",
       "    </tr>\n",
       "    <tr>\n",
       "      <th>668341</th>\n",
       "      <td>https://doi.org/10.1103/physrevd.91.064031</td>\n",
       "      <td>https://openalex.org/W2048986354</td>\n",
       "      <td>We prove that adiabatic regularization and DeW...</td>\n",
       "      <td>Equivalence of adiabatic and DeWitt-Schwinger ...</td>\n",
       "      <td>2015-03-11</td>\n",
       "      <td>article</td>\n",
       "      <td>journal-article</td>\n",
       "      <td>[dewitt-schwinger]</td>\n",
       "      <td>Adrián del Río</td>\n",
       "      <td>American Physical Society</td>\n",
       "      <td>[Adrián del Río, José Navarro-Salas]</td>\n",
       "      <td>[Departamento de Fisica Teorica, IFIC, Centro ...</td>\n",
       "      <td>en</td>\n",
       "    </tr>\n",
       "    <tr>\n",
       "      <th>668342</th>\n",
       "      <td>https://doi.org/10.1103/physrevlett.61.2179</td>\n",
       "      <td>https://openalex.org/W2089423254</td>\n",
       "      <td>A laboratory experiment searching for intermed...</td>\n",
       "      <td>Limit on the Strength of Intermediate-Range Fo...</td>\n",
       "      <td>1988-11-07</td>\n",
       "      <td>article</td>\n",
       "      <td>journal-article</td>\n",
       "      <td>[isospin, forces, intermediate-range]</td>\n",
       "      <td>R. Cowsik</td>\n",
       "      <td>American Physical Society</td>\n",
       "      <td>[R. Cowsik, N. Krishnan, S. N. Tandon, C. S. U...</td>\n",
       "      <td>[Tata Institute of Fundamental Research, Bomba...</td>\n",
       "      <td>en</td>\n",
       "    </tr>\n",
       "    <tr>\n",
       "      <th>668343</th>\n",
       "      <td>https://doi.org/10.1103/physrevb.86.184506</td>\n",
       "      <td>https://openalex.org/W2062382806</td>\n",
       "      <td>Striped phases, in which spin, charge, and pai...</td>\n",
       "      <td>Determinant quantum Monte Carlo study of the e...</td>\n",
       "      <td>2012-11-07</td>\n",
       "      <td>article</td>\n",
       "      <td>journal-article</td>\n",
       "      <td>[quantum, determinant]</td>\n",
       "      <td>Rubem Mondaini</td>\n",
       "      <td>American Physical Society</td>\n",
       "      <td>[Rubem Mondaini, Tao Ying, Thereza Paiva, Rich...</td>\n",
       "      <td>[Instituto de Fisica, Universidade Federal do ...</td>\n",
       "      <td>en</td>\n",
       "    </tr>\n",
       "    <tr>\n",
       "      <th>668344</th>\n",
       "      <td>https://doi.org/10.1103/physrevb.96.134522</td>\n",
       "      <td>https://openalex.org/W2610269471</td>\n",
       "      <td>We study the two-dimensional superconductor-in...</td>\n",
       "      <td>Superconductor to weak-insulator transitions i...</td>\n",
       "      <td>2017-10-31</td>\n",
       "      <td>article</td>\n",
       "      <td>journal-article</td>\n",
       "      <td>[nitride films, superconductor, tantalum, weak...</td>\n",
       "      <td>Nicholas P. Breznay</td>\n",
       "      <td>American Physical Society</td>\n",
       "      <td>[Nicholas P. Breznay, Mihir Tendulkar, Li Zhan...</td>\n",
       "      <td>[Department of Applied Physics, Stanford Unive...</td>\n",
       "      <td>en</td>\n",
       "    </tr>\n",
       "  </tbody>\n",
       "</table>\n",
       "<p>668345 rows × 13 columns</p>\n",
       "</div>"
      ],
      "text/plain": [
       "                                                  doi  \\\n",
       "0           https://doi.org/10.1103/revmodphys.60.701   \n",
       "1             https://doi.org/10.1103/physrevc.20.820   \n",
       "2       https://doi.org/10.1103/physrevlett.90.188103   \n",
       "3          https://doi.org/10.1103/physrevd.72.025006   \n",
       "4        https://doi.org/10.1103/physrevstab.6.072001   \n",
       "...                                               ...   \n",
       "668340        https://doi.org/10.1103/physrev.74.1315   \n",
       "668341     https://doi.org/10.1103/physrevd.91.064031   \n",
       "668342    https://doi.org/10.1103/physrevlett.61.2179   \n",
       "668343     https://doi.org/10.1103/physrevb.86.184506   \n",
       "668344     https://doi.org/10.1103/physrevb.96.134522   \n",
       "\n",
       "                                      id  \\\n",
       "0       https://openalex.org/W1969695378   \n",
       "1       https://openalex.org/W1976520037   \n",
       "2       https://openalex.org/W2032865683   \n",
       "3       https://openalex.org/W1976726898   \n",
       "4       https://openalex.org/W1974569415   \n",
       "...                                  ...   \n",
       "668340  https://openalex.org/W1988389384   \n",
       "668341  https://openalex.org/W2048986354   \n",
       "668342  https://openalex.org/W2089423254   \n",
       "668343  https://openalex.org/W2062382806   \n",
       "668344  https://openalex.org/W2610269471   \n",
       "\n",
       "                                                 abstract  \\\n",
       "0       Recent advances in the study of solid surfaces...   \n",
       "1       A unified shell-model description of nuclear d...   \n",
       "2       Counterion atmospheres condensed onto charged ...   \n",
       "3       We present an extension of the twistor-motivat...   \n",
       "4       We present measurements of dark currents and x...   \n",
       "...                                                   ...   \n",
       "668340  Simultaneous alpha-particle bombardments of ${...   \n",
       "668341  We prove that adiabatic regularization and DeW...   \n",
       "668342  A laboratory experiment searching for intermed...   \n",
       "668343  Striped phases, in which spin, charge, and pai...   \n",
       "668344  We study the two-dimensional superconductor-in...   \n",
       "\n",
       "                                                    title publication_date  \\\n",
       "0       Interaction of positron beams with surfaces, t...       1988-07-01   \n",
       "1       Unified shell-model description of nuclear def...       1979-08-01   \n",
       "2       Counterion Distribution around DNA Probed by S...       2003-05-08   \n",
       "3       Twistor-inspired construction of electroweak v...       2005-07-13   \n",
       "4       Dark current, breakdown, and magnetic field ef...       2003-07-30   \n",
       "...                                                   ...              ...   \n",
       "668340                       Radioactive Arsenic Isotopes       1948-11-15   \n",
       "668341  Equivalence of adiabatic and DeWitt-Schwinger ...       2015-03-11   \n",
       "668342  Limit on the Strength of Intermediate-Range Fo...       1988-11-07   \n",
       "668343  Determinant quantum Monte Carlo study of the e...       2012-11-07   \n",
       "668344  Superconductor to weak-insulator transitions i...       2017-10-31   \n",
       "\n",
       "           type    type_crossref  \\\n",
       "0       article  journal-article   \n",
       "1       article  journal-article   \n",
       "2       article  journal-article   \n",
       "3       article  journal-article   \n",
       "4       article  journal-article   \n",
       "...         ...              ...   \n",
       "668340  article  journal-article   \n",
       "668341  article  journal-article   \n",
       "668342  article  journal-article   \n",
       "668343  article  journal-article   \n",
       "668344  article  journal-article   \n",
       "\n",
       "                                                 keywords  \\\n",
       "0       [positron beams, thin films, surfaces, interac...   \n",
       "1                      [nuclear deformation, shell-model]   \n",
       "2                         [dna probed, scattering, x-ray]   \n",
       "3                                      [twistor-inspired]   \n",
       "4       [mhz cavity, magnetic field effects, magnetic ...   \n",
       "...                                                   ...   \n",
       "668340                                [isotopes, arsenic]   \n",
       "668341                                 [dewitt-schwinger]   \n",
       "668342              [isospin, forces, intermediate-range]   \n",
       "668343                             [quantum, determinant]   \n",
       "668344  [nitride films, superconductor, tantalum, weak...   \n",
       "\n",
       "               first_author         host_organization_name  \\\n",
       "0          Peter J. Schultz      American Physical Society   \n",
       "1               P. Federman  American Institute of Physics   \n",
       "2                    R. Das      American Physical Society   \n",
       "3                  Zvi Bern      American Physical Society   \n",
       "4                  J. Norem      American Physical Society   \n",
       "...                     ...                            ...   \n",
       "668340          D.A. McCown  American Institute of Physics   \n",
       "668341       Adrián del Río      American Physical Society   \n",
       "668342            R. Cowsik      American Physical Society   \n",
       "668343       Rubem Mondaini      American Physical Society   \n",
       "668344  Nicholas P. Breznay      American Physical Society   \n",
       "\n",
       "                                              all_authors  \\\n",
       "0                          [Peter J. Schultz, K. G. Lynn]   \n",
       "1                                [P. Federman, S. Pittel]   \n",
       "2       [R. Das, T. T. Mills, L. W. Kwok, G. S. Maskel...   \n",
       "3       [Zvi Bern, Darren Forde, David A. Kosower, Pie...   \n",
       "4       [J. Norem, V. Wu, A. Moretti, M. Popovic, Z. Q...   \n",
       "...                                                   ...   \n",
       "668340            [D.A. McCown, L.L. Woodward, M.L. Pool]   \n",
       "668341               [Adrián del Río, José Navarro-Salas]   \n",
       "668342  [R. Cowsik, N. Krishnan, S. N. Tandon, C. S. U...   \n",
       "668343  [Rubem Mondaini, Tao Ying, Thereza Paiva, Rich...   \n",
       "668344  [Nicholas P. Breznay, Mihir Tendulkar, Li Zhan...   \n",
       "\n",
       "                                           all_authors_af language  \n",
       "0       [Department of Physics, The University of West...       en  \n",
       "1       [Instituto de Fisica, Universidad Nacional Aut...       en  \n",
       "2       [Department of Biochemistry, Stanford Universi...       en  \n",
       "3       [Department of Physics and Astronomy, UCLA, Lo...       en  \n",
       "4       [HEP Division, Argonne National Laboratory, Ar...       en  \n",
       "...                                                   ...      ...  \n",
       "668340  [THE OHIO STATE UNIVERSITY COLUMBUS, OHIO, THE...       en  \n",
       "668341  [Departamento de Fisica Teorica, IFIC, Centro ...       en  \n",
       "668342  [Tata Institute of Fundamental Research, Bomba...       en  \n",
       "668343  [Instituto de Fisica, Universidade Federal do ...       en  \n",
       "668344  [Department of Applied Physics, Stanford Unive...       en  \n",
       "\n",
       "[668345 rows x 13 columns]"
      ]
     },
     "execution_count": 285,
     "metadata": {},
     "output_type": "execute_result"
    }
   ],
   "source": [
    "df_metadata[df_metadata[\"abstract\"].notna()]"
   ]
  },
  {
   "cell_type": "code",
   "execution_count": null,
   "id": "44499a29-f446-4f0a-aa0a-2c2d6bd91c2d",
   "metadata": {},
   "outputs": [],
   "source": []
  }
 ],
 "metadata": {
  "kernelspec": {
   "display_name": "Python 3 (ipykernel)",
   "language": "python",
   "name": "python3"
  },
  "language_info": {
   "codemirror_mode": {
    "name": "ipython",
    "version": 3
   },
   "file_extension": ".py",
   "mimetype": "text/x-python",
   "name": "python",
   "nbconvert_exporter": "python",
   "pygments_lexer": "ipython3",
   "version": "3.10.13"
  }
 },
 "nbformat": 4,
 "nbformat_minor": 5
}
